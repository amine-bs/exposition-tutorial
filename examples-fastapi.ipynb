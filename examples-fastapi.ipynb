{
 "cells": [
  {
   "cell_type": "markdown",
   "id": "d3e8a313-fc47-4cd1-8fd4-4ea054f5be45",
   "metadata": {},
   "source": [
    "On teste notre API en utilisant la commande ``curl`` et la bibliothèque ``requests`` de Python "
   ]
  },
  {
   "cell_type": "code",
   "execution_count": null,
   "id": "f4cc1a98",
   "metadata": {},
   "outputs": [],
   "source": [
    "!curl localhost:8000"
   ]
  },
  {
   "cell_type": "code",
   "execution_count": null,
   "id": "3c05b8a1-f722-4e10-b354-ec4fd7179b8f",
   "metadata": {},
   "outputs": [],
   "source": [
    "!curl localhost:8000/model/architecture"
   ]
  },
  {
   "cell_type": "code",
   "execution_count": null,
   "id": "77456018-07b0-49ad-9311-f9332769bf90",
   "metadata": {},
   "outputs": [],
   "source": [
    "!curl localhost:8000/model/dataset"
   ]
  },
  {
   "cell_type": "code",
   "execution_count": null,
   "id": "22a51476-829e-415b-bfc4-f9ff5be2f8a8",
   "metadata": {},
   "outputs": [],
   "source": [
    "!curl localhost:8000/model/accuracy"
   ]
  },
  {
   "cell_type": "markdown",
   "id": "3821d50c-2840-4f6b-90c8-cb4591197dfc",
   "metadata": {},
   "source": [
    "Pour définir les paramètres d'une requête, on ajoute au chemin la syntaxe suivante: ``?param1=p1&param2=p2``"
   ]
  },
  {
   "cell_type": "code",
   "execution_count": null,
   "id": "fed53443-10a6-4b20-89d6-20b03d12437d",
   "metadata": {},
   "outputs": [],
   "source": [
    "!curl localhost:8000/model/accuracy?n=4"
   ]
  },
  {
   "cell_type": "code",
   "execution_count": null,
   "id": "6d724988-84aa-420d-92f8-936cce7bfdfe",
   "metadata": {},
   "outputs": [],
   "source": [
    "!curl localhost:8000/model/hello"
   ]
  },
  {
   "cell_type": "markdown",
   "id": "186a8188-94bd-4e96-9eea-4d0473881d1e",
   "metadata": {},
   "source": [
    "Ici, on utilise la bibliothèque ``requests`` pour le chemin ``/predict``. Cela nous permet d'importer l'image à classifier."
   ]
  },
  {
   "cell_type": "code",
   "execution_count": null,
   "id": "595354f9-6662-4c2a-b11e-36cfe373d7a4",
   "metadata": {},
   "outputs": [],
   "source": [
    "import requests\n",
    "f = open(\"pizza.png\", 'rb')\n",
    "files = {\"file\": (f.name, f, \"multipart/form-data\")}\n",
    "pred = requests.post(url=\"http://localhost:8000/predict\", files=files)\n",
    "pred.content"
   ]
  }
 ],
 "metadata": {
  "kernelspec": {
   "display_name": "Python 3.8.3 ('base')",
   "language": "python",
   "name": "python3"
  },
  "language_info": {
   "codemirror_mode": {
    "name": "ipython",
    "version": 3
   },
   "file_extension": ".py",
   "mimetype": "text/x-python",
   "name": "python",
   "nbconvert_exporter": "python",
   "pygments_lexer": "ipython3",
   "version": "3.8.3"
  },
  "vscode": {
   "interpreter": {
    "hash": "99fcf9d4a50a3fc60922dfe5bdeaa49edaa2538f7421467a5da4b84b1899b3d5"
   }
  }
 },
 "nbformat": 4,
 "nbformat_minor": 5
}
